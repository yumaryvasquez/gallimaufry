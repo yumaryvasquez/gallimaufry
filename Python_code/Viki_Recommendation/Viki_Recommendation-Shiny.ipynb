{
 "cells": [
  {
   "cell_type": "code",
   "execution_count": 8,
   "id": "60f492c3",
   "metadata": {},
   "outputs": [],
   "source": [
    "import numpy as np \n",
    "import pandas as pd\n",
    "import seaborn as sns\n",
    "import matplotlib.pyplot as plt\n",
    "from sklearn import preprocessing\n",
    "import os\n",
    "from sklearn.feature_extraction.text import TfidfVectorizer\n",
    "from sklearn.preprocessing import FunctionTransformer\n",
    "from sklearn.pipeline import FeatureUnion, Pipeline\n",
    "from scipy import sparse\n",
    "from sklearn.metrics.pairwise import linear_kernel\n",
    "from shiny import App, render, ui\n"
   ]
  },
  {
   "cell_type": "code",
   "execution_count": 9,
   "id": "0e35b5b9",
   "metadata": {},
   "outputs": [],
   "source": [
    "#titles dataset from https://www.kaggle.com/datasets/victorsoeiro/rakuten-tv-dramas-and-movies/code?select=credits.csv\n",
    "titles=pd.read_csv('/Users/YumaryVasquez/Desktop/data_science.nosync/viki/titles.csv')"
   ]
  },
  {
   "cell_type": "code",
   "execution_count": 10,
   "id": "e33b884d",
   "metadata": {},
   "outputs": [],
   "source": [
    "tfidf = TfidfVectorizer(stop_words='english')\n",
    "titles['genres'] = titles['genres'].fillna('')\n",
    "tfidf_matrix = tfidf.fit_transform(titles['genres'])\n",
    "indices = pd.Series(titles.index, index=titles['title']).drop_duplicates()\n",
    "cosine_sim = linear_kernel(tfidf_matrix, tfidf_matrix)"
   ]
  },
  {
   "cell_type": "code",
   "execution_count": 11,
   "id": "9f547c11",
   "metadata": {},
   "outputs": [],
   "source": [
    "def get_recommendations(title, cosine_sim=cosine_sim):\n",
    "    idx = indices[title]\n",
    "    sim_scores = list(enumerate(cosine_sim[idx]))\n",
    "    sim_scores = sorted(sim_scores, key=lambda x: x[1], reverse=True)\n",
    "    sim_scores = sim_scores[1:11]\n",
    "    movie_indices = [i[0] for i in sim_scores]\n",
    "    return titles['title'].iloc[movie_indices]"
   ]
  },
  {
   "cell_type": "code",
   "execution_count": 12,
   "id": "7bcbe946",
   "metadata": {},
   "outputs": [],
   "source": [
    "app_ui = ui.page_fluid(\n",
    "    ui.input_text(\"x\", \"Text input\", placeholder=\"Enter Name of Show\"),\n",
    "    ui.output_text_verbatim(\"txt\"),\n",
    ")"
   ]
  },
  {
   "cell_type": "code",
   "execution_count": 13,
   "id": "1c162b04",
   "metadata": {},
   "outputs": [],
   "source": [
    "def server(input, output, session):\n",
    "    @output\n",
    "    @render.text\n",
    "    def txt():\n",
    "        return(get_recommendations(input.x()))\n",
    "        #return f'x: \"{input.x()}\"'\n",
    "\n"
   ]
  },
  {
   "cell_type": "code",
   "execution_count": 14,
   "id": "025944aa",
   "metadata": {},
   "outputs": [],
   "source": [
    "app = App(app_ui, server, debug=True)"
   ]
  },
  {
   "cell_type": "code",
   "execution_count": 66,
   "id": "6393fa65",
   "metadata": {
    "scrolled": true
   },
   "outputs": [
    {
     "data": {
      "text/plain": [
       "273                    New World\n",
       "1235             Beautiful World\n",
       "797                Ashes of Love\n",
       "503                  Oh My Ghost\n",
       "601     My Heart Twinkle Twinkle\n",
       "1449                  Year Beast\n",
       "1699          The Second Husband\n",
       "1171                        Item\n",
       "1595                 Raging Fire\n",
       "512             The Senior Class\n",
       "Name: title, dtype: object"
      ]
     },
     "execution_count": 66,
     "metadata": {},
     "output_type": "execute_result"
    }
   ],
   "source": [
    "#get_recommendations('Strong Woman Do Bong Soon')"
   ]
  }
 ],
 "metadata": {
  "kernelspec": {
   "display_name": "new_env2",
   "language": "python",
   "name": "new_env2"
  },
  "language_info": {
   "codemirror_mode": {
    "name": "ipython",
    "version": 3
   },
   "file_extension": ".py",
   "mimetype": "text/x-python",
   "name": "python",
   "nbconvert_exporter": "python",
   "pygments_lexer": "ipython3",
   "version": "3.10.2"
  }
 },
 "nbformat": 4,
 "nbformat_minor": 5
}
