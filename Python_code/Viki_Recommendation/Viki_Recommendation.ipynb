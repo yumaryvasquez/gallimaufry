{
 "cells": [
  {
   "cell_type": "code",
   "execution_count": 1,
   "id": "60f492c3",
   "metadata": {},
   "outputs": [],
   "source": [
    "import numpy as np \n",
    "import pandas as pd\n",
    "import seaborn as sns\n",
    "import matplotlib.pyplot as plt\n",
    "from sklearn import preprocessing\n",
    "import os\n"
   ]
  },
  {
   "cell_type": "code",
   "execution_count": 2,
   "id": "0e35b5b9",
   "metadata": {},
   "outputs": [
    {
     "data": {
      "text/plain": [
       "(1904, 15)"
      ]
     },
     "execution_count": 2,
     "metadata": {},
     "output_type": "execute_result"
    }
   ],
   "source": [
    "#titles dataset from https://www.kaggle.com/datasets/victorsoeiro/rakuten-tv-dramas-and-movies/code?select=credits.csv\n",
    "titles=pd.read_csv('/Users/YumaryVasquez/Desktop/data_science.nosync/viki/titles.csv')\n",
    "titles.shape"
   ]
  },
  {
   "cell_type": "code",
   "execution_count": 3,
   "id": "56ebbb1b",
   "metadata": {},
   "outputs": [
    {
     "data": {
      "text/plain": [
       "age_certification       1631\n",
       "imdb_score               534\n",
       "imdb_votes               534\n",
       "imdb_id                  448\n",
       "seasons                  434\n",
       "tmdb_score               399\n",
       "description               80\n",
       "tmdb_popularity           62\n",
       "id                         0\n",
       "title                      0\n",
       "type                       0\n",
       "release_year               0\n",
       "runtime                    0\n",
       "genres                     0\n",
       "production_countries       0\n",
       "dtype: int64"
      ]
     },
     "execution_count": 3,
     "metadata": {},
     "output_type": "execute_result"
    }
   ],
   "source": [
    "titles.isnull().sum().sort_values(ascending=False)"
   ]
  },
  {
   "cell_type": "code",
   "execution_count": 4,
   "id": "51e16028",
   "metadata": {},
   "outputs": [],
   "source": [
    "#filling up nulls with median of datasets\n",
    "median_imdb_votes=titles['imdb_votes'].median()\n",
    "titles['imdb_votes']=titles['imdb_votes'].fillna(median_imdb_votes)\n",
    "\n",
    "median_imdb_score=titles['imdb_score'].median()\n",
    "titles['imdb_score']=titles['imdb_score'].fillna(median_imdb_score)\n",
    "\n",
    "median_seasons=titles['seasons'].median()\n",
    "titles['seasons']=titles['seasons'].fillna(median_seasons)\n",
    "\n",
    "median_tmdb_score=titles['tmdb_score'].median()\n",
    "titles['tmdb_score']=titles['tmdb_score'].fillna(median_tmdb_score)\n",
    "\n",
    "median_tmdb_popularity=titles['tmdb_popularity'].median()\n",
    "titles['tmdb_popularity']=titles['tmdb_popularity'].fillna(median_tmdb_popularity)"
   ]
  },
  {
   "cell_type": "code",
   "execution_count": 5,
   "id": "0f974ae7",
   "metadata": {},
   "outputs": [
    {
     "data": {
      "text/plain": [
       "description             80\n",
       "id                       0\n",
       "title                    0\n",
       "type                     0\n",
       "release_year             0\n",
       "runtime                  0\n",
       "genres                   0\n",
       "production_countries     0\n",
       "seasons                  0\n",
       "imdb_score               0\n",
       "imdb_votes               0\n",
       "tmdb_popularity          0\n",
       "tmdb_score               0\n",
       "dtype: int64"
      ]
     },
     "execution_count": 5,
     "metadata": {},
     "output_type": "execute_result"
    }
   ],
   "source": [
    "titles = titles.drop(columns=['age_certification', 'imdb_id'])\n",
    "titles.isnull().sum().sort_values(ascending=False)"
   ]
  },
  {
   "cell_type": "code",
   "execution_count": 6,
   "id": "5c75da40",
   "metadata": {},
   "outputs": [
    {
     "data": {
      "text/html": [
       "<div>\n",
       "<style scoped>\n",
       "    .dataframe tbody tr th:only-of-type {\n",
       "        vertical-align: middle;\n",
       "    }\n",
       "\n",
       "    .dataframe tbody tr th {\n",
       "        vertical-align: top;\n",
       "    }\n",
       "\n",
       "    .dataframe thead th {\n",
       "        text-align: right;\n",
       "    }\n",
       "</style>\n",
       "<table border=\"1\" class=\"dataframe\">\n",
       "  <thead>\n",
       "    <tr style=\"text-align: right;\">\n",
       "      <th></th>\n",
       "      <th>release_year</th>\n",
       "      <th>runtime</th>\n",
       "      <th>seasons</th>\n",
       "      <th>imdb_score</th>\n",
       "      <th>imdb_votes</th>\n",
       "      <th>tmdb_popularity</th>\n",
       "      <th>tmdb_score</th>\n",
       "    </tr>\n",
       "  </thead>\n",
       "  <tbody>\n",
       "    <tr>\n",
       "      <th>count</th>\n",
       "      <td>1904.000000</td>\n",
       "      <td>1904.000000</td>\n",
       "      <td>1904.000000</td>\n",
       "      <td>1904.000000</td>\n",
       "      <td>1904.000000</td>\n",
       "      <td>1904.000000</td>\n",
       "      <td>1904.000000</td>\n",
       "    </tr>\n",
       "    <tr>\n",
       "      <th>mean</th>\n",
       "      <td>2016.794118</td>\n",
       "      <td>63.112920</td>\n",
       "      <td>1.184874</td>\n",
       "      <td>7.146061</td>\n",
       "      <td>985.593487</td>\n",
       "      <td>8.584648</td>\n",
       "      <td>7.366229</td>\n",
       "    </tr>\n",
       "    <tr>\n",
       "      <th>std</th>\n",
       "      <td>4.442148</td>\n",
       "      <td>30.537682</td>\n",
       "      <td>1.659528</td>\n",
       "      <td>0.863303</td>\n",
       "      <td>6138.115613</td>\n",
       "      <td>15.002098</td>\n",
       "      <td>1.267393</td>\n",
       "    </tr>\n",
       "    <tr>\n",
       "      <th>min</th>\n",
       "      <td>1973.000000</td>\n",
       "      <td>0.000000</td>\n",
       "      <td>1.000000</td>\n",
       "      <td>1.400000</td>\n",
       "      <td>5.000000</td>\n",
       "      <td>0.069592</td>\n",
       "      <td>1.000000</td>\n",
       "    </tr>\n",
       "    <tr>\n",
       "      <th>25%</th>\n",
       "      <td>2015.000000</td>\n",
       "      <td>44.000000</td>\n",
       "      <td>1.000000</td>\n",
       "      <td>6.800000</td>\n",
       "      <td>83.000000</td>\n",
       "      <td>2.186250</td>\n",
       "      <td>6.900000</td>\n",
       "    </tr>\n",
       "    <tr>\n",
       "      <th>50%</th>\n",
       "      <td>2018.000000</td>\n",
       "      <td>60.000000</td>\n",
       "      <td>1.000000</td>\n",
       "      <td>7.300000</td>\n",
       "      <td>188.500000</td>\n",
       "      <td>4.616500</td>\n",
       "      <td>7.500000</td>\n",
       "    </tr>\n",
       "    <tr>\n",
       "      <th>75%</th>\n",
       "      <td>2020.000000</td>\n",
       "      <td>80.000000</td>\n",
       "      <td>1.000000</td>\n",
       "      <td>7.600000</td>\n",
       "      <td>417.500000</td>\n",
       "      <td>9.482500</td>\n",
       "      <td>8.000000</td>\n",
       "    </tr>\n",
       "    <tr>\n",
       "      <th>max</th>\n",
       "      <td>2022.000000</td>\n",
       "      <td>160.000000</td>\n",
       "      <td>57.000000</td>\n",
       "      <td>9.600000</td>\n",
       "      <td>208644.000000</td>\n",
       "      <td>381.236000</td>\n",
       "      <td>10.000000</td>\n",
       "    </tr>\n",
       "  </tbody>\n",
       "</table>\n",
       "</div>"
      ],
      "text/plain": [
       "       release_year      runtime      seasons   imdb_score     imdb_votes  \\\n",
       "count   1904.000000  1904.000000  1904.000000  1904.000000    1904.000000   \n",
       "mean    2016.794118    63.112920     1.184874     7.146061     985.593487   \n",
       "std        4.442148    30.537682     1.659528     0.863303    6138.115613   \n",
       "min     1973.000000     0.000000     1.000000     1.400000       5.000000   \n",
       "25%     2015.000000    44.000000     1.000000     6.800000      83.000000   \n",
       "50%     2018.000000    60.000000     1.000000     7.300000     188.500000   \n",
       "75%     2020.000000    80.000000     1.000000     7.600000     417.500000   \n",
       "max     2022.000000   160.000000    57.000000     9.600000  208644.000000   \n",
       "\n",
       "       tmdb_popularity   tmdb_score  \n",
       "count      1904.000000  1904.000000  \n",
       "mean          8.584648     7.366229  \n",
       "std          15.002098     1.267393  \n",
       "min           0.069592     1.000000  \n",
       "25%           2.186250     6.900000  \n",
       "50%           4.616500     7.500000  \n",
       "75%           9.482500     8.000000  \n",
       "max         381.236000    10.000000  "
      ]
     },
     "execution_count": 6,
     "metadata": {},
     "output_type": "execute_result"
    }
   ],
   "source": [
    "titles.describe()"
   ]
  },
  {
   "cell_type": "code",
   "execution_count": 7,
   "id": "b83219af",
   "metadata": {},
   "outputs": [
    {
     "data": {
      "text/plain": [
       "type\n",
       "MOVIE     434\n",
       "SHOW     1470\n",
       "dtype: int64"
      ]
     },
     "execution_count": 7,
     "metadata": {},
     "output_type": "execute_result"
    }
   ],
   "source": [
    "titles.groupby('type').size()"
   ]
  },
  {
   "cell_type": "code",
   "execution_count": 8,
   "id": "72e6eeec",
   "metadata": {},
   "outputs": [],
   "source": [
    "movies_release = titles[(titles['type'] == 'MOVIE') & (titles['release_year'] < 2022)]"
   ]
  },
  {
   "cell_type": "code",
   "execution_count": 9,
   "id": "a05d916b",
   "metadata": {},
   "outputs": [],
   "source": [
    "show_release = titles[(titles['type'] == 'SHOW') & (titles['release_year'] < 2022)]"
   ]
  },
  {
   "cell_type": "code",
   "execution_count": 10,
   "id": "b0315e92",
   "metadata": {},
   "outputs": [],
   "source": [
    "mov_trend = movies_release.groupby(['release_year']).size().to_frame('total')"
   ]
  },
  {
   "cell_type": "code",
   "execution_count": 11,
   "id": "7a6a613d",
   "metadata": {},
   "outputs": [],
   "source": [
    "show_trend = show_release.groupby(['release_year']).size().to_frame('total')"
   ]
  },
  {
   "cell_type": "code",
   "execution_count": 12,
   "id": "1903a70f",
   "metadata": {},
   "outputs": [
    {
     "data": {
      "text/plain": [
       "<matplotlib.legend.Legend at 0x124a5e560>"
      ]
     },
     "execution_count": 12,
     "metadata": {},
     "output_type": "execute_result"
    },
    {
     "data": {
      "image/png": "[encoded data removed]",
      "text/plain": [
       "<Figure size 720x360 with 1 Axes>"
      ]
     },
     "metadata": {
      "needs_background": "light"
     },
     "output_type": "display_data"
    }
   ],
   "source": [
    "plt.figure(figsize=(10,5))\n",
    "plt.title(\"Trend of Movie and Show\")\n",
    "sns.lineplot(data=mov_trend,x='release_year',y='total')\n",
    "sns.lineplot(data=show_trend,x='release_year',y='total')\n",
    "plt.legend(labels=[\"Trend of Movie\",\"Trend of Show\"])"
   ]
  },
  {
   "cell_type": "code",
   "execution_count": 13,
   "id": "0fcfc44d",
   "metadata": {},
   "outputs": [],
   "source": [
    "avgrt = titles.groupby('release_year')['runtime'].agg(['mean'])"
   ]
  },
  {
   "cell_type": "code",
   "execution_count": 14,
   "id": "6d1d54f8",
   "metadata": {},
   "outputs": [
    {
     "data": {
      "text/plain": [
       "<AxesSubplot:xlabel='release_year', ylabel='mean'>"
      ]
     },
     "execution_count": 14,
     "metadata": {},
     "output_type": "execute_result"
    },
    {
     "data": {
      "image/png": "[encoded data removed]",
      "text/plain": [
       "<Figure size 432x288 with 1 Axes>"
      ]
     },
     "metadata": {
      "needs_background": "light"
     },
     "output_type": "display_data"
    }
   ],
   "source": [
    "sns.lineplot(data=avgrt,x='release_year',y='mean')"
   ]
  },
  {
   "cell_type": "code",
   "execution_count": 15,
   "id": "f1765181",
   "metadata": {},
   "outputs": [
    {
     "data": {
      "text/plain": [
       "<AxesSubplot:>"
      ]
     },
     "execution_count": 15,
     "metadata": {},
     "output_type": "execute_result"
    },
    {
     "data": {
      "image/png": "[encoded data removed]",
      "text/plain": [
       "<Figure size 432x288 with 2 Axes>"
      ]
     },
     "metadata": {
      "needs_background": "light"
     },
     "output_type": "display_data"
    }
   ],
   "source": [
    "dfcor = titles[['imdb_score','imdb_votes','tmdb_popularity','tmdb_score']].corr()\n",
    "sns.heatmap(dfcor)"
   ]
  },
  {
   "cell_type": "code",
   "execution_count": 16,
   "id": "8fa2a3c5",
   "metadata": {},
   "outputs": [],
   "source": [
    "from sklearn.feature_extraction.text import TfidfVectorizer\n",
    "from sklearn.preprocessing import FunctionTransformer\n",
    "from sklearn.pipeline import FeatureUnion, Pipeline\n",
    "from scipy import sparse\n",
    "from sklearn.metrics.pairwise import linear_kernel"
   ]
  },
  {
   "cell_type": "code",
   "execution_count": 17,
   "id": "e33b884d",
   "metadata": {},
   "outputs": [],
   "source": [
    "tfidf = TfidfVectorizer(stop_words='english')\n",
    "titles['genres'] = titles['genres'].fillna('')\n",
    "titles['description'] = titles['description'].fillna('')"
   ]
  },
  {
   "cell_type": "code",
   "execution_count": 18,
   "id": "0c602405",
   "metadata": {},
   "outputs": [],
   "source": [
    "tfidf_matrix = tfidf.fit_transform(titles['genres'])\n",
    "tfidf_matrix2 = tfidf.fit_transform(titles['description'])\n",
    "combined_matrix = sparse.hstack((tfidf_matrix, tfidf_matrix2))"
   ]
  },
  {
   "cell_type": "code",
   "execution_count": 19,
   "id": "cd1fbe19",
   "metadata": {},
   "outputs": [],
   "source": [
    "cosine_sim = linear_kernel(tfidf_matrix, tfidf_matrix)"
   ]
  },
  {
   "cell_type": "code",
   "execution_count": 20,
   "id": "c8cf1315",
   "metadata": {},
   "outputs": [],
   "source": [
    "indices = pd.Series(titles.index, index=titles['title']).drop_duplicates()"
   ]
  },
  {
   "cell_type": "code",
   "execution_count": 21,
   "id": "9f547c11",
   "metadata": {},
   "outputs": [],
   "source": [
    "def get_recommendations(title, cosine_sim=cosine_sim):\n",
    "    idx = indices[title]\n",
    "    sim_scores = list(enumerate(cosine_sim[idx]))\n",
    "    sim_scores = sorted(sim_scores, key=lambda x: x[1], reverse=True)\n",
    "    sim_scores = sim_scores[1:11]\n",
    "    movie_indices = [i[0] for i in sim_scores]\n",
    "    return titles['title'].iloc[movie_indices]"
   ]
  },
  {
   "cell_type": "code",
   "execution_count": 33,
   "id": "6393fa65",
   "metadata": {
    "scrolled": true
   },
   "outputs": [
    {
     "data": {
      "text/plain": [
       "334                         Bel Ami\n",
       "136           Heading to the Ground\n",
       "1771              ONLY JUST MARRIED\n",
       "312                      Reply 1994\n",
       "744         My ID is Gangnam Beauty\n",
       "1666         Assistant of Superstar\n",
       "437                     Oh My Venus\n",
       "778     Master Devil Do Not Kiss Me\n",
       "1833                    Be Together\n",
       "153           Get Karl! Oh Soo Jung\n",
       "Name: title, dtype: object"
      ]
     },
     "execution_count": 33,
     "metadata": {},
     "output_type": "execute_result"
    }
   ],
   "source": [
    "get_recommendations('Falling Into Your Smile')"
   ]
  },
  {
   "cell_type": "code",
   "execution_count": 23,
   "id": "b28b89d8",
   "metadata": {},
   "outputs": [],
   "source": [
    "#combined description and genre \n",
    "cosine_sim = linear_kernel(combined_matrix, combined_matrix)\n",
    "def get_recommendations(title, cosine_sim=cosine_sim):\n",
    "    idx = indices[title]\n",
    "    sim_scores = list(enumerate(cosine_sim[idx]))\n",
    "    sim_scores = sorted(sim_scores, key=lambda x: x[1], reverse=True)\n",
    "    sim_scores = sim_scores[1:11]\n",
    "    movie_indices = [i[0] for i in sim_scores]\n",
    "    return titles['title'].iloc[movie_indices]\n"
   ]
  },
  {
   "cell_type": "code",
   "execution_count": 24,
   "id": "67286450",
   "metadata": {},
   "outputs": [
    {
     "data": {
      "text/plain": [
       "1106        The Golden Eyes\n",
       "1171                   Item\n",
       "300          Gu Family Book\n",
       "346      The Night Watchman\n",
       "1167            Joy of Life\n",
       "1089      Extraordinary You\n",
       "1263    Love and Redemption\n",
       "920      Lost Love in Times\n",
       "829         Legend of Fuyao\n",
       "463                  Kairos\n",
       "Name: title, dtype: object"
      ]
     },
     "execution_count": 24,
     "metadata": {},
     "output_type": "execute_result"
    }
   ],
   "source": [
    "get_recommendations('Strong Woman Do Bong Soon')"
   ]
  },
  {
   "cell_type": "code",
   "execution_count": 68,
   "id": "134be1c1",
   "metadata": {},
   "outputs": [],
   "source": []
  },
  {
   "cell_type": "code",
   "execution_count": null,
   "id": "0811d3fa",
   "metadata": {},
   "outputs": [],
   "source": [
    "#credits dataset from https://www.kaggle.com/datasets/victorsoeiro/rakuten-tv-dramas-and-movies/code?select=credits.csv\n",
    "credits=pd.read_csv('/Users/YumaryVasquez/Desktop/data_science.nosync/viki/credits.csv')\n",
    "credits.shape\n",
    "\n",
    "credits.isnull().sum().sort_values(ascending=False)\n",
    "\n",
    "tfidf = TfidfVectorizer(stop_words='english')\n"
   ]
  },
  {
   "cell_type": "code",
   "execution_count": null,
   "id": "cf797b08",
   "metadata": {},
   "outputs": [],
   "source": []
  },
  {
   "cell_type": "code",
   "execution_count": null,
   "id": "a58030a6",
   "metadata": {},
   "outputs": [],
   "source": [
    "# below is code to recommend shows based on actors"
   ]
  },
  {
   "cell_type": "code",
   "execution_count": 98,
   "id": "9aebb97c",
   "metadata": {},
   "outputs": [],
   "source": [
    "new_df = pd.merge(titles[['id','title','genres']],credits[['id','name']],on='id', how='left')"
   ]
  },
  {
   "cell_type": "code",
   "execution_count": 99,
   "id": "8c3f0897",
   "metadata": {},
   "outputs": [
    {
     "data": {
      "text/html": [
       "<div>\n",
       "<style scoped>\n",
       "    .dataframe tbody tr th:only-of-type {\n",
       "        vertical-align: middle;\n",
       "    }\n",
       "\n",
       "    .dataframe tbody tr th {\n",
       "        vertical-align: top;\n",
       "    }\n",
       "\n",
       "    .dataframe thead th {\n",
       "        text-align: right;\n",
       "    }\n",
       "</style>\n",
       "<table border=\"1\" class=\"dataframe\">\n",
       "  <thead>\n",
       "    <tr style=\"text-align: right;\">\n",
       "      <th></th>\n",
       "      <th>id</th>\n",
       "      <th>title</th>\n",
       "      <th>genres</th>\n",
       "      <th>name</th>\n",
       "    </tr>\n",
       "  </thead>\n",
       "  <tbody>\n",
       "    <tr>\n",
       "      <th>0</th>\n",
       "      <td>ts299859</td>\n",
       "      <td>Serendipity</td>\n",
       "      <td>[]</td>\n",
       "      <td>NaN</td>\n",
       "    </tr>\n",
       "    <tr>\n",
       "      <th>1</th>\n",
       "      <td>ts43055</td>\n",
       "      <td>Entertainment Weekly</td>\n",
       "      <td>['reality']</td>\n",
       "      <td>NaN</td>\n",
       "    </tr>\n",
       "    <tr>\n",
       "      <th>2</th>\n",
       "      <td>tm21196</td>\n",
       "      <td>Il Mare</td>\n",
       "      <td>['fantasy', 'scifi', 'romance', 'drama', 'docu...</td>\n",
       "      <td>Jun Ji-hyun</td>\n",
       "    </tr>\n",
       "    <tr>\n",
       "      <th>3</th>\n",
       "      <td>tm21196</td>\n",
       "      <td>Il Mare</td>\n",
       "      <td>['fantasy', 'scifi', 'romance', 'drama', 'docu...</td>\n",
       "      <td>Lee Jung-jae</td>\n",
       "    </tr>\n",
       "    <tr>\n",
       "      <th>4</th>\n",
       "      <td>tm21196</td>\n",
       "      <td>Il Mare</td>\n",
       "      <td>['fantasy', 'scifi', 'romance', 'drama', 'docu...</td>\n",
       "      <td>Kim Mu-saeng</td>\n",
       "    </tr>\n",
       "    <tr>\n",
       "      <th>...</th>\n",
       "      <td>...</td>\n",
       "      <td>...</td>\n",
       "      <td>...</td>\n",
       "      <td>...</td>\n",
       "    </tr>\n",
       "    <tr>\n",
       "      <th>19597</th>\n",
       "      <td>ts300333</td>\n",
       "      <td>One Hour Left Until the First Affair</td>\n",
       "      <td>['drama', 'romance']</td>\n",
       "      <td>Asami Usuda</td>\n",
       "    </tr>\n",
       "    <tr>\n",
       "      <th>19598</th>\n",
       "      <td>ts300333</td>\n",
       "      <td>One Hour Left Until the First Affair</td>\n",
       "      <td>['drama', 'romance']</td>\n",
       "      <td>Riku Hagiwara</td>\n",
       "    </tr>\n",
       "    <tr>\n",
       "      <th>19599</th>\n",
       "      <td>ts300333</td>\n",
       "      <td>One Hour Left Until the First Affair</td>\n",
       "      <td>['drama', 'romance']</td>\n",
       "      <td>Mai Kiryu</td>\n",
       "    </tr>\n",
       "    <tr>\n",
       "      <th>19600</th>\n",
       "      <td>ts300333</td>\n",
       "      <td>One Hour Left Until the First Affair</td>\n",
       "      <td>['drama', 'romance']</td>\n",
       "      <td>Akiko Ohku</td>\n",
       "    </tr>\n",
       "    <tr>\n",
       "      <th>19601</th>\n",
       "      <td>ts300333</td>\n",
       "      <td>One Hour Left Until the First Affair</td>\n",
       "      <td>['drama', 'romance']</td>\n",
       "      <td>Ryosuke Hashiguchi</td>\n",
       "    </tr>\n",
       "  </tbody>\n",
       "</table>\n",
       "<p>19602 rows × 4 columns</p>\n",
       "</div>"
      ],
      "text/plain": [
       "             id                                 title  \\\n",
       "0      ts299859                           Serendipity   \n",
       "1       ts43055                  Entertainment Weekly   \n",
       "2       tm21196                               Il Mare   \n",
       "3       tm21196                               Il Mare   \n",
       "4       tm21196                               Il Mare   \n",
       "...         ...                                   ...   \n",
       "19597  ts300333  One Hour Left Until the First Affair   \n",
       "19598  ts300333  One Hour Left Until the First Affair   \n",
       "19599  ts300333  One Hour Left Until the First Affair   \n",
       "19600  ts300333  One Hour Left Until the First Affair   \n",
       "19601  ts300333  One Hour Left Until the First Affair   \n",
       "\n",
       "                                                  genres                name  \n",
       "0                                                     []                 NaN  \n",
       "1                                            ['reality']                 NaN  \n",
       "2      ['fantasy', 'scifi', 'romance', 'drama', 'docu...         Jun Ji-hyun  \n",
       "3      ['fantasy', 'scifi', 'romance', 'drama', 'docu...        Lee Jung-jae  \n",
       "4      ['fantasy', 'scifi', 'romance', 'drama', 'docu...        Kim Mu-saeng  \n",
       "...                                                  ...                 ...  \n",
       "19597                               ['drama', 'romance']         Asami Usuda  \n",
       "19598                               ['drama', 'romance']       Riku Hagiwara  \n",
       "19599                               ['drama', 'romance']           Mai Kiryu  \n",
       "19600                               ['drama', 'romance']          Akiko Ohku  \n",
       "19601                               ['drama', 'romance']  Ryosuke Hashiguchi  \n",
       "\n",
       "[19602 rows x 4 columns]"
      ]
     },
     "execution_count": 99,
     "metadata": {},
     "output_type": "execute_result"
    }
   ],
   "source": [
    "new_df"
   ]
  },
  {
   "cell_type": "code",
   "execution_count": 101,
   "id": "e02da25c",
   "metadata": {},
   "outputs": [],
   "source": [
    "new_df['name'] = new_df['name'].fillna('')\n",
    "new_df['title'] = new_df['title'].fillna('')"
   ]
  },
  {
   "cell_type": "code",
   "execution_count": 102,
   "id": "e6cf5761",
   "metadata": {},
   "outputs": [],
   "source": [
    "#tfidf_matrix = tfidf.fit_transform(new_df['name'])\n",
    "tfidf_matrix2 = tfidf.fit_transform(new_df['title'])\n",
    "#combined_matrix = sparse.hstack((tfidf_matrix, tfidf_matrix2))"
   ]
  },
  {
   "cell_type": "code",
   "execution_count": 103,
   "id": "edc39078",
   "metadata": {},
   "outputs": [],
   "source": [
    "indices = pd.Series(new_df.index, index=new_df['name']).drop_duplicates()"
   ]
  },
  {
   "cell_type": "code",
   "execution_count": 104,
   "id": "830a7f55",
   "metadata": {},
   "outputs": [],
   "source": [
    "cosine_sim = linear_kernel(combined_matrix, combined_matrix)"
   ]
  },
  {
   "cell_type": "code",
   "execution_count": 105,
   "id": "b60072c7",
   "metadata": {},
   "outputs": [],
   "source": [
    "\n",
    "def get_recommendations(title, cosine_sim=cosine_sim):\n",
    "    idx = indices[title]\n",
    "    sim_scores = list(enumerate(cosine_sim[idx]))\n",
    "    sim_scores = sorted(sim_scores, key=lambda x: x[1], reverse=True)\n",
    "    sim_scores = sim_scores[1:11]\n",
    "    movie_indices = [i[0] for i in sim_scores]\n",
    "    return new_df['name'].iloc[movie_indices]\n",
    "\n"
   ]
  },
  {
   "cell_type": "code",
   "execution_count": 106,
   "id": "14ce207c",
   "metadata": {},
   "outputs": [
    {
     "ename": "ValueError",
     "evalue": "The truth value of an array with more than one element is ambiguous. Use a.any() or a.all()",
     "output_type": "error",
     "traceback": [
      "\u001b[0;31m---------------------------------------------------------------------------\u001b[0m",
      "\u001b[0;31mValueError\u001b[0m                                Traceback (most recent call last)",
      "Input \u001b[0;32mIn [106]\u001b[0m, in \u001b[0;36m<cell line: 1>\u001b[0;34m()\u001b[0m\n\u001b[0;32m----> 1\u001b[0m \u001b[43mget_recommendations\u001b[49m\u001b[43m(\u001b[49m\u001b[38;5;124;43m'\u001b[39;49m\u001b[38;5;124;43mYang Yang\u001b[39;49m\u001b[38;5;124;43m'\u001b[39;49m\u001b[43m)\u001b[49m\n",
      "Input \u001b[0;32mIn [105]\u001b[0m, in \u001b[0;36mget_recommendations\u001b[0;34m(title, cosine_sim)\u001b[0m\n\u001b[1;32m      2\u001b[0m idx \u001b[38;5;241m=\u001b[39m indices[title]\n\u001b[1;32m      3\u001b[0m sim_scores \u001b[38;5;241m=\u001b[39m \u001b[38;5;28mlist\u001b[39m(\u001b[38;5;28menumerate\u001b[39m(cosine_sim[idx]))\n\u001b[0;32m----> 4\u001b[0m sim_scores \u001b[38;5;241m=\u001b[39m \u001b[38;5;28;43msorted\u001b[39;49m\u001b[43m(\u001b[49m\u001b[43msim_scores\u001b[49m\u001b[43m,\u001b[49m\u001b[43m \u001b[49m\u001b[43mkey\u001b[49m\u001b[38;5;241;43m=\u001b[39;49m\u001b[38;5;28;43;01mlambda\u001b[39;49;00m\u001b[43m \u001b[49m\u001b[43mx\u001b[49m\u001b[43m:\u001b[49m\u001b[43m \u001b[49m\u001b[43mx\u001b[49m\u001b[43m[\u001b[49m\u001b[38;5;241;43m1\u001b[39;49m\u001b[43m]\u001b[49m\u001b[43m,\u001b[49m\u001b[43m \u001b[49m\u001b[43mreverse\u001b[49m\u001b[38;5;241;43m=\u001b[39;49m\u001b[38;5;28;43;01mTrue\u001b[39;49;00m\u001b[43m)\u001b[49m\n\u001b[1;32m      5\u001b[0m sim_scores \u001b[38;5;241m=\u001b[39m sim_scores[\u001b[38;5;241m1\u001b[39m:\u001b[38;5;241m11\u001b[39m]\n\u001b[1;32m      6\u001b[0m movie_indices \u001b[38;5;241m=\u001b[39m [i[\u001b[38;5;241m0\u001b[39m] \u001b[38;5;28;01mfor\u001b[39;00m i \u001b[38;5;129;01min\u001b[39;00m sim_scores]\n",
      "\u001b[0;31mValueError\u001b[0m: The truth value of an array with more than one element is ambiguous. Use a.any() or a.all()"
     ]
    }
   ],
   "source": [
    "get_recommendations('Yang Yang')"
   ]
  },
  {
   "cell_type": "code",
   "execution_count": null,
   "id": "256d965b",
   "metadata": {},
   "outputs": [],
   "source": []
  },
  {
   "cell_type": "code",
   "execution_count": null,
   "id": "bdd04086",
   "metadata": {},
   "outputs": [],
   "source": []
  }
 ],
 "metadata": {
  "kernelspec": {
   "display_name": "new_env2",
   "language": "python",
   "name": "new_env2"
  },
  "language_info": {
   "codemirror_mode": {
    "name": "ipython",
    "version": 3
   },
   "file_extension": ".py",
   "mimetype": "text/x-python",
   "name": "python",
   "nbconvert_exporter": "python",
   "pygments_lexer": "ipython3",
   "version": "3.10.2"
  }
 },
 "nbformat": 4,
 "nbformat_minor": 5
}
